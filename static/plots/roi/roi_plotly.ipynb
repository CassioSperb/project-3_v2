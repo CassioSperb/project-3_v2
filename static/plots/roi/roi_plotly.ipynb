{
 "cells": [
  {
   "cell_type": "code",
   "execution_count": 11,
   "metadata": {},
   "outputs": [
    {
     "name": "stdout",
     "output_type": "stream",
     "text": [
      "HTML file with Chart.js chart created successfully.\n"
     ]
    }
   ],
   "source": [
    "import pandas as pd\n",
    "\n",
    "# Load the dataset\n",
    "df_roi = pd.read_csv('../../../data/outputs/cumulative_roi_results.csv')\n",
    "\n",
    "# List the companies in the dataset\n",
    "companies = df_roi['Company'].unique()\n",
    "\n",
    "# Available columns (metrics) to plot\n",
    "available_columns = ['Cumulative ROI on $1500 ($)', 'Cumulative ROI (%)']\n",
    "\n",
    "# Prepare data for the Chart.js\n",
    "labels = df_roi['Quarter'].tolist()  # X-axis (Quarters)\n",
    "data_roi = df_roi['Cumulative ROI on $1500 ($)'].tolist()  # Y-axis (Cumulative ROI)\n",
    "company_names = df_roi['Company'].unique()  # List of company names\n",
    "\n",
    "\n",
    "# Generate HTML + JavaScript code for Chart.js\n",
    "html_content = f\"\"\"\n",
    "<!DOCTYPE html>\n",
    "<html>\n",
    "<head>\n",
    "    <title>ROI Chart</title>\n",
    "    <script src=\"https://cdn.jsdelivr.net/npm/chart.js\"></script>\n",
    "</head>\n",
    "<body>\n",
    "    <canvas id=\"roiChart\"></canvas>\n",
    "    <script>\n",
    "        let ctx = document.getElementById('roiChart').getContext('2d');\n",
    "        let roiChart = new Chart(ctx, {{\n",
    "            type: 'line',\n",
    "            data: {{\n",
    "                labels: {labels},  // X-axis labels (quarters)\n",
    "                datasets: [{{\n",
    "                    label: '{company_names[0]}',  // Example company, you can add more datasets for more companies\n",
    "                    data: {data_roi},  // Y-axis data (Cumulative ROI)\n",
    "                    borderColor: 'rgba(75, 192, 192, 1)',\n",
    "                    fill: false\n",
    "                }}]\n",
    "            }},\n",
    "            options: {{\n",
    "                scales: {{\n",
    "                    y: {{\n",
    "                        beginAtZero: true\n",
    "                    }}\n",
    "                }}\n",
    "            }}\n",
    "        }});\n",
    "    </script>\n",
    "</body>\n",
    "</html>\n",
    "\"\"\"\n",
    "\n",
    "# Write the HTML content to a file\n",
    "with open('roi_chart.html', 'w') as f:\n",
    "    f.write(html_content)\n",
    "\n",
    "print(\"HTML file with Chart.js chart created successfully.\")\n"
   ]
  }
 ],
 "metadata": {
  "kernelspec": {
   "display_name": "base",
   "language": "python",
   "name": "python3"
  },
  "language_info": {
   "codemirror_mode": {
    "name": "ipython",
    "version": 3
   },
   "file_extension": ".py",
   "mimetype": "text/x-python",
   "name": "python",
   "nbconvert_exporter": "python",
   "pygments_lexer": "ipython3",
   "version": "3.12.4"
  }
 },
 "nbformat": 4,
 "nbformat_minor": 2
}
